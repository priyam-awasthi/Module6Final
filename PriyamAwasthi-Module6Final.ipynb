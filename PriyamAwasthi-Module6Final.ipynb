{
  "metadata": {
    "kernelspec": {
      "name": "python",
      "display_name": "Python (Pyodide)",
      "language": "python"
    },
    "language_info": {
      "codemirror_mode": {
        "name": "python",
        "version": 3
      },
      "file_extension": ".py",
      "mimetype": "text/x-python",
      "name": "python",
      "nbconvert_exporter": "python",
      "pygments_lexer": "ipython3",
      "version": "3.8"
    },
    "prev_pub_hash": "9e1985db9844176462bd1d5863048c9f3d17404bbc6a648be9084b0c42b29347"
  },
  "nbformat_minor": 4,
  "nbformat": 4,
  "cells": [
    {
      "cell_type": "markdown",
      "source": "<center>\n    <img src=\"https://cf-courses-data.s3.us.cloud-object-storage.appdomain.cloud/IBMDeveloperSkillsNetwork-DS0105EN-SkillsNetwork/labs/Module2/images/SN_web_lightmode.png\" width=\"300\" alt=\"cognitiveclass.ai logo\">\n</center>\n",
      "metadata": {}
    },
    {
      "cell_type": "markdown",
      "source": "# Hands-on Lab: Create your Jupyter Notebook\n",
      "metadata": {}
    },
    {
      "cell_type": "markdown",
      "source": "#### Add your code below following the instructions given in the course\n",
      "metadata": {}
    },
    {
      "cell_type": "markdown",
      "source": "# Module 6 Final Assignment",
      "metadata": {}
    },
    {
      "cell_type": "markdown",
      "source": "Final assignment: Create and share your Jupyter Notebook",
      "metadata": {}
    },
    {
      "cell_type": "markdown",
      "source": "#### Some languages that are commonly used in data science include:\n1. Python\n2. R\n3. Scala\n4. Java\n5. C++\n6. Julia",
      "metadata": {}
    },
    {
      "cell_type": "markdown",
      "source": "#### Some popular libraries in data science include:\n\nFor Python:\n1. Pandas\n2. NumPy\n3. Matplotlib\n4. Seaborn\n5. Scikit-learn\n6. Keras\n7. TensorFlow\n8. PyTorch\n9. Apache Spark\n\nFor Scala:\n1. Vegas\n2. Big DL\n3. Apache Spark\n\nFor R:\n1. ggplot2\n2. Keras\n3. TensorFlow\n4. Apache Spark",
      "metadata": {}
    },
    {
      "cell_type": "markdown",
      "source": "#### Some popular tools used in Data Science are:\n\n| Category                             | Tools                                                                                                  |\n|--------------------------------------|--------------------------------------------------------------------------------------------------------|\n| Data Management                      | MySQL, Ceph, PostgreSQL, CouchDB, Cassandra, MongoDB, Elasticsearch, Hadoop                            |\n| Operating Systems / IDEs             | Jupyter, PyCharm, RStudio, Spyder, Microsoft Visual Studio, Anaconda Navigator                         |\n| Data Integration & Transformation    | Spark SQL, Kubeflow, Node-RED, Airflow, NiFi, Kafka                                                    |\n| Data Visualization                   | PixieDust, Kibana, Hue, Superset                                                                       |\n| Model Deployment                     | PredictionIO, Seldon, Kubernetes, OpenShift, MLeap, TensorFlow Serving, TensorFlow Lite, TensorFlow.js |\n| Model Monitoring & Assessment        | AI Fairness 360, AI Explainability 360, Adversarial Robustness 360, Prometheus, ModelDB                |\n| Code Asset                           | Git, GitLab, GitHub, Bitbucket                                                                         |\n| Data Asset                           | Egeria, Kylo, Atlas                                                                                    |\n",
      "metadata": {}
    },
    {
      "cell_type": "markdown",
      "source": "## Arithmetic Expression Examples\nBelow are some examples of arithmetic expressions in Python",
      "metadata": {}
    },
    {
      "cell_type": "code",
      "source": "# can change any of the numbers\nprint(3 * 2)\nprint(3 + 2)\nprint((3 + 2) * 2)",
      "metadata": {
        "trusted": true
      },
      "outputs": [
        {
          "name": "stdout",
          "output_type": "stream",
          "text": "6\n5\n10\n"
        }
      ],
      "execution_count": 6
    },
    {
      "cell_type": "code",
      "source": "minutes = 150 # can change to any number\nprint(f'{minutes} minutes is {minutes/60} hours')",
      "metadata": {
        "trusted": true
      },
      "outputs": [
        {
          "name": "stdout",
          "output_type": "stream",
          "text": "150 minutes is 2.5 hours\n"
        }
      ],
      "execution_count": 13
    },
    {
      "cell_type": "markdown",
      "source": "## Learning Objectives\n- Create a Jupyter Notebook with markdown and code cells\n- List examples of languages, libraries and tools used in Data Science\n- Share your Jupyter Notebook publicly on GitHub\n- Evaluate notebooks submitted by your peers using the provided rubric\n- Demonstrate proficiency in Data Science toolkit knowledge",
      "metadata": {}
    },
    {
      "cell_type": "markdown",
      "source": "### Name: Priyam Awasthi",
      "metadata": {}
    },
    {
      "cell_type": "markdown",
      "source": "Copyright ©2024 IBM Corporation. All rights reserved.\n",
      "metadata": {}
    }
  ]
}